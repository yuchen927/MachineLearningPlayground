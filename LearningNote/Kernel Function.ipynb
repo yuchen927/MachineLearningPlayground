{
 "cells": [
  {
   "cell_type": "markdown",
   "metadata": {},
   "source": [
    "##  Kernel Function"
   ]
  },
  {
   "cell_type": "markdown",
   "metadata": {},
   "source": [
    "### 1. Linear Kernel\n",
    "(1) Linear separability <br/>\n",
    "(2) When there are many features <br/>\n",
    "(3) The linear kernel can be a special case of the RBF kernel when the number of samples is large and some features are added <br/>\n",
    "###############################################################"
   ]
  },
  {
   "cell_type": "markdown",
   "metadata": {},
   "source": [
    "### 2. Polynomial kernel\n",
    "\n",
    "(1) Image processing <br/>\n",
    "(2) The parameter is more than RBF <br/>\n",
    "(3) The value range is (0, inf)\n",
    "<br/>\n",
    "###############################################################\n"
   ]
  },
  {
   "attachments": {},
   "cell_type": "markdown",
   "metadata": {},
   "source": [
    "### 3. Gaussian radial basis function (RBF)\t\n",
    "\n",
    "(1) Linear inseparable <br/>\n",
    "(2) General Use <br/>\n",
    "(3) Less feature dimension  <br/>\n",
    "(4) When the sample size is normal <br/>\n",
    "(5) It is used when there is no prior knowledge<br/>\n",
    "(6) The value is [0,1]\n",
    "\n",
    "<br/>\n",
    "###############################################################"
   ]
  },
  {
   "attachments": {},
   "cell_type": "markdown",
   "metadata": {},
   "source": [
    "### 4. Sigmoid kernel\t\n",
    "\n",
    "(1) Generate a neural network <br/>\n",
    "(2) Similar to RBF under certain parameters, but may be invalid under certain parameters\n",
    "\n",
    "<br/>\n",
    "###############################################################"
   ]
  },
  {
   "attachments": {},
   "cell_type": "markdown",
   "metadata": {},
   "source": [
    "### 5. Gaussian kernel\t\n",
    "(1) General <br/>\n",
    "(2) It is used when there is no prior knowledge\n",
    "\n",
    "<br/>\n",
    "###############################################################"
   ]
  },
  {
   "attachments": {},
   "cell_type": "markdown",
   "metadata": {},
   "source": [
    "### 6. Laplace RBF kernel\t\n",
    "(1) General <br/>\n",
    "(2) It is used when there is no prior knowledge\n",
    "<br/>\n",
    "###############################################################"
   ]
  },
  {
   "cell_type": "markdown",
   "metadata": {},
   "source": [
    "### 7. Hyperbolic tangent kernel\n",
    "(1) Used in neural networks\n",
    "<br/>\n",
    "###############################################################"
   ]
  },
  {
   "cell_type": "markdown",
   "metadata": {},
   "source": [
    "### 8. Bessel function of the first kind Kernel\n",
    "(1) It can eliminate cross terms in functions\n",
    "<br/>\n",
    "###############################################################"
   ]
  },
  {
   "cell_type": "markdown",
   "metadata": {},
   "source": [
    "### 9. ANOVA radial basis kernel\n",
    "(1) Deal with regression problem\n",
    "<br/>\n",
    "###############################################################"
   ]
  },
  {
   "cell_type": "markdown",
   "metadata": {},
   "source": [
    "### 10. Linear splines kernel in one-dimension\t\n",
    "(1) Text categorization <br/>\n",
    "(2) Deal with regression problem <br/>\n",
    "(3) Deal with large sparse vectors \n",
    "<br/>\n",
    "###############################################################"
   ]
  },
  {
   "attachments": {},
   "cell_type": "markdown",
   "metadata": {},
   "source": [
    "#### Reference: https://blog.csdn.net/aliceyangxi1987/article/details/80617649"
   ]
  }
 ],
 "metadata": {
  "kernelspec": {
   "display_name": "Python 3",
   "language": "python",
   "name": "python3"
  },
  "language_info": {
   "codemirror_mode": {
    "name": "ipython",
    "version": 3
   },
   "file_extension": ".py",
   "mimetype": "text/x-python",
   "name": "python",
   "nbconvert_exporter": "python",
   "pygments_lexer": "ipython3",
   "version": "3.7.4"
  }
 },
 "nbformat": 4,
 "nbformat_minor": 2
}
